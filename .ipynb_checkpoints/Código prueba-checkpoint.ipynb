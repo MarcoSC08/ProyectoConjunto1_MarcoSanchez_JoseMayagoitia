{
 "cells": [
  {
   "cell_type": "code",
   "execution_count": 51,
   "id": "3d89b1ac",
   "metadata": {},
   "outputs": [],
   "source": [
    "import pandas as pd\n",
    "import matplotlib.pyplot as plt"
   ]
  },
  {
   "cell_type": "code",
   "execution_count": 2,
   "id": "dc90dd65",
   "metadata": {},
   "outputs": [
    {
     "data": {
      "text/html": [
       "<div>\n",
       "<style scoped>\n",
       "    .dataframe tbody tr th:only-of-type {\n",
       "        vertical-align: middle;\n",
       "    }\n",
       "\n",
       "    .dataframe tbody tr th {\n",
       "        vertical-align: top;\n",
       "    }\n",
       "\n",
       "    .dataframe thead th {\n",
       "        text-align: right;\n",
       "    }\n",
       "</style>\n",
       "<table border=\"1\" class=\"dataframe\">\n",
       "  <thead>\n",
       "    <tr style=\"text-align: right;\">\n",
       "      <th></th>\n",
       "      <th>Unnamed: 0</th>\n",
       "      <th>country</th>\n",
       "      <th>iso_code</th>\n",
       "      <th>date</th>\n",
       "      <th>total_vaccinations</th>\n",
       "      <th>people_vaccinated</th>\n",
       "      <th>people_fully_vaccinated</th>\n",
       "      <th>New_deaths</th>\n",
       "      <th>population</th>\n",
       "      <th>ratio</th>\n",
       "    </tr>\n",
       "  </thead>\n",
       "  <tbody>\n",
       "    <tr>\n",
       "      <th>0</th>\n",
       "      <td>0</td>\n",
       "      <td>Afghanistan</td>\n",
       "      <td>AFG</td>\n",
       "      <td>2021-05-11</td>\n",
       "      <td>504502.0</td>\n",
       "      <td>448878.0</td>\n",
       "      <td>55624.0</td>\n",
       "      <td>12</td>\n",
       "      <td>40146987.0</td>\n",
       "      <td>1.118086</td>\n",
       "    </tr>\n",
       "    <tr>\n",
       "      <th>1</th>\n",
       "      <td>1</td>\n",
       "      <td>Afghanistan</td>\n",
       "      <td>AFG</td>\n",
       "      <td>2021-05-20</td>\n",
       "      <td>547901.0</td>\n",
       "      <td>470341.0</td>\n",
       "      <td>77560.0</td>\n",
       "      <td>10</td>\n",
       "      <td>40146987.0</td>\n",
       "      <td>1.171547</td>\n",
       "    </tr>\n",
       "    <tr>\n",
       "      <th>2</th>\n",
       "      <td>2</td>\n",
       "      <td>Afghanistan</td>\n",
       "      <td>AFG</td>\n",
       "      <td>2021-05-24</td>\n",
       "      <td>573277.0</td>\n",
       "      <td>476367.0</td>\n",
       "      <td>96910.0</td>\n",
       "      <td>10</td>\n",
       "      <td>40146987.0</td>\n",
       "      <td>1.186557</td>\n",
       "    </tr>\n",
       "    <tr>\n",
       "      <th>3</th>\n",
       "      <td>3</td>\n",
       "      <td>Afghanistan</td>\n",
       "      <td>AFG</td>\n",
       "      <td>2021-05-26</td>\n",
       "      <td>590454.0</td>\n",
       "      <td>479372.0</td>\n",
       "      <td>111082.0</td>\n",
       "      <td>19</td>\n",
       "      <td>40146987.0</td>\n",
       "      <td>1.194042</td>\n",
       "    </tr>\n",
       "    <tr>\n",
       "      <th>4</th>\n",
       "      <td>4</td>\n",
       "      <td>Afghanistan</td>\n",
       "      <td>AFG</td>\n",
       "      <td>2021-05-27</td>\n",
       "      <td>593313.0</td>\n",
       "      <td>479574.0</td>\n",
       "      <td>113739.0</td>\n",
       "      <td>14</td>\n",
       "      <td>40146987.0</td>\n",
       "      <td>1.194545</td>\n",
       "    </tr>\n",
       "  </tbody>\n",
       "</table>\n",
       "</div>"
      ],
      "text/plain": [
       "   Unnamed: 0      country iso_code        date  total_vaccinations  \\\n",
       "0           0  Afghanistan      AFG  2021-05-11            504502.0   \n",
       "1           1  Afghanistan      AFG  2021-05-20            547901.0   \n",
       "2           2  Afghanistan      AFG  2021-05-24            573277.0   \n",
       "3           3  Afghanistan      AFG  2021-05-26            590454.0   \n",
       "4           4  Afghanistan      AFG  2021-05-27            593313.0   \n",
       "\n",
       "   people_vaccinated  people_fully_vaccinated  New_deaths  population  \\\n",
       "0           448878.0                  55624.0          12  40146987.0   \n",
       "1           470341.0                  77560.0          10  40146987.0   \n",
       "2           476367.0                  96910.0          10  40146987.0   \n",
       "3           479372.0                 111082.0          19  40146987.0   \n",
       "4           479574.0                 113739.0          14  40146987.0   \n",
       "\n",
       "      ratio  \n",
       "0  1.118086  \n",
       "1  1.171547  \n",
       "2  1.186557  \n",
       "3  1.194042  \n",
       "4  1.194545  "
      ]
     },
     "execution_count": 2,
     "metadata": {},
     "output_type": "execute_result"
    }
   ],
   "source": [
    "df = pd.read_csv('covid.csv')\n",
    "df.head()"
   ]
  },
  {
   "cell_type": "code",
   "execution_count": 7,
   "id": "2499245c",
   "metadata": {},
   "outputs": [
    {
     "data": {
      "text/html": [
       "<div>\n",
       "<style scoped>\n",
       "    .dataframe tbody tr th:only-of-type {\n",
       "        vertical-align: middle;\n",
       "    }\n",
       "\n",
       "    .dataframe tbody tr th {\n",
       "        vertical-align: top;\n",
       "    }\n",
       "\n",
       "    .dataframe thead th {\n",
       "        text-align: right;\n",
       "    }\n",
       "</style>\n",
       "<table border=\"1\" class=\"dataframe\">\n",
       "  <thead>\n",
       "    <tr style=\"text-align: right;\">\n",
       "      <th></th>\n",
       "      <th>country</th>\n",
       "      <th>date</th>\n",
       "      <th>total_vaccinations</th>\n",
       "      <th>people_vaccinated</th>\n",
       "      <th>people_fully_vaccinated</th>\n",
       "      <th>New_deaths</th>\n",
       "    </tr>\n",
       "  </thead>\n",
       "  <tbody>\n",
       "    <tr>\n",
       "      <th>0</th>\n",
       "      <td>Afghanistan</td>\n",
       "      <td>2021-05-11</td>\n",
       "      <td>504502.0</td>\n",
       "      <td>448878.0</td>\n",
       "      <td>55624.0</td>\n",
       "      <td>12</td>\n",
       "    </tr>\n",
       "    <tr>\n",
       "      <th>1</th>\n",
       "      <td>Afghanistan</td>\n",
       "      <td>2021-05-20</td>\n",
       "      <td>547901.0</td>\n",
       "      <td>470341.0</td>\n",
       "      <td>77560.0</td>\n",
       "      <td>10</td>\n",
       "    </tr>\n",
       "    <tr>\n",
       "      <th>2</th>\n",
       "      <td>Afghanistan</td>\n",
       "      <td>2021-05-24</td>\n",
       "      <td>573277.0</td>\n",
       "      <td>476367.0</td>\n",
       "      <td>96910.0</td>\n",
       "      <td>10</td>\n",
       "    </tr>\n",
       "    <tr>\n",
       "      <th>3</th>\n",
       "      <td>Afghanistan</td>\n",
       "      <td>2021-05-26</td>\n",
       "      <td>590454.0</td>\n",
       "      <td>479372.0</td>\n",
       "      <td>111082.0</td>\n",
       "      <td>19</td>\n",
       "    </tr>\n",
       "    <tr>\n",
       "      <th>4</th>\n",
       "      <td>Afghanistan</td>\n",
       "      <td>2021-05-27</td>\n",
       "      <td>593313.0</td>\n",
       "      <td>479574.0</td>\n",
       "      <td>113739.0</td>\n",
       "      <td>14</td>\n",
       "    </tr>\n",
       "  </tbody>\n",
       "</table>\n",
       "</div>"
      ],
      "text/plain": [
       "       country        date  total_vaccinations  people_vaccinated  \\\n",
       "0  Afghanistan  2021-05-11            504502.0           448878.0   \n",
       "1  Afghanistan  2021-05-20            547901.0           470341.0   \n",
       "2  Afghanistan  2021-05-24            573277.0           476367.0   \n",
       "3  Afghanistan  2021-05-26            590454.0           479372.0   \n",
       "4  Afghanistan  2021-05-27            593313.0           479574.0   \n",
       "\n",
       "   people_fully_vaccinated  New_deaths  \n",
       "0                  55624.0          12  \n",
       "1                  77560.0          10  \n",
       "2                  96910.0          10  \n",
       "3                 111082.0          19  \n",
       "4                 113739.0          14  "
      ]
     },
     "execution_count": 7,
     "metadata": {},
     "output_type": "execute_result"
    }
   ],
   "source": [
    "dataCP=df.drop(columns=['Unnamed: 0','iso_code','population','ratio'],axis=1)\n",
    "dataCP.head()"
   ]
  },
  {
   "cell_type": "code",
   "execution_count": 10,
   "id": "ff3b3557",
   "metadata": {},
   "outputs": [
    {
     "data": {
      "text/plain": [
       "total_vaccinations         1.949639e+07\n",
       "people_vaccinated          1.238994e+07\n",
       "people_fully_vaccinated    7.218532e+06\n",
       "New_deaths                 1.025136e+02\n",
       "dtype: float64"
      ]
     },
     "execution_count": 10,
     "metadata": {},
     "output_type": "execute_result"
    }
   ],
   "source": [
    "dataCP.mean()"
   ]
  },
  {
   "cell_type": "code",
   "execution_count": 55,
   "id": "1eb7e42d",
   "metadata": {},
   "outputs": [],
   "source": [
    "dataCP['date'] = pd.to_datetime(df['date'], errors='coerce')"
   ]
  },
  {
   "cell_type": "code",
   "execution_count": 56,
   "id": "fb5d4f96",
   "metadata": {},
   "outputs": [
    {
     "data": {
      "text/html": [
       "<div>\n",
       "<style scoped>\n",
       "    .dataframe tbody tr th:only-of-type {\n",
       "        vertical-align: middle;\n",
       "    }\n",
       "\n",
       "    .dataframe tbody tr th {\n",
       "        vertical-align: top;\n",
       "    }\n",
       "\n",
       "    .dataframe thead th {\n",
       "        text-align: right;\n",
       "    }\n",
       "</style>\n",
       "<table border=\"1\" class=\"dataframe\">\n",
       "  <thead>\n",
       "    <tr style=\"text-align: right;\">\n",
       "      <th></th>\n",
       "      <th>country</th>\n",
       "      <th>date</th>\n",
       "      <th>total_vaccinations</th>\n",
       "      <th>people_vaccinated</th>\n",
       "      <th>people_fully_vaccinated</th>\n",
       "      <th>New_deaths</th>\n",
       "      <th>Mes</th>\n",
       "    </tr>\n",
       "  </thead>\n",
       "  <tbody>\n",
       "    <tr>\n",
       "      <th>0</th>\n",
       "      <td>Afghanistan</td>\n",
       "      <td>2021-05-11</td>\n",
       "      <td>504502.0</td>\n",
       "      <td>448878.0</td>\n",
       "      <td>55624.0</td>\n",
       "      <td>12</td>\n",
       "      <td>5</td>\n",
       "    </tr>\n",
       "    <tr>\n",
       "      <th>1</th>\n",
       "      <td>Afghanistan</td>\n",
       "      <td>2021-05-20</td>\n",
       "      <td>547901.0</td>\n",
       "      <td>470341.0</td>\n",
       "      <td>77560.0</td>\n",
       "      <td>10</td>\n",
       "      <td>5</td>\n",
       "    </tr>\n",
       "    <tr>\n",
       "      <th>2</th>\n",
       "      <td>Afghanistan</td>\n",
       "      <td>2021-05-24</td>\n",
       "      <td>573277.0</td>\n",
       "      <td>476367.0</td>\n",
       "      <td>96910.0</td>\n",
       "      <td>10</td>\n",
       "      <td>5</td>\n",
       "    </tr>\n",
       "    <tr>\n",
       "      <th>3</th>\n",
       "      <td>Afghanistan</td>\n",
       "      <td>2021-05-26</td>\n",
       "      <td>590454.0</td>\n",
       "      <td>479372.0</td>\n",
       "      <td>111082.0</td>\n",
       "      <td>19</td>\n",
       "      <td>5</td>\n",
       "    </tr>\n",
       "    <tr>\n",
       "      <th>4</th>\n",
       "      <td>Afghanistan</td>\n",
       "      <td>2021-05-27</td>\n",
       "      <td>593313.0</td>\n",
       "      <td>479574.0</td>\n",
       "      <td>113739.0</td>\n",
       "      <td>14</td>\n",
       "      <td>5</td>\n",
       "    </tr>\n",
       "  </tbody>\n",
       "</table>\n",
       "</div>"
      ],
      "text/plain": [
       "       country       date  total_vaccinations  people_vaccinated  \\\n",
       "0  Afghanistan 2021-05-11            504502.0           448878.0   \n",
       "1  Afghanistan 2021-05-20            547901.0           470341.0   \n",
       "2  Afghanistan 2021-05-24            573277.0           476367.0   \n",
       "3  Afghanistan 2021-05-26            590454.0           479372.0   \n",
       "4  Afghanistan 2021-05-27            593313.0           479574.0   \n",
       "\n",
       "   people_fully_vaccinated  New_deaths  Mes  \n",
       "0                  55624.0          12    5  \n",
       "1                  77560.0          10    5  \n",
       "2                  96910.0          10    5  \n",
       "3                 111082.0          19    5  \n",
       "4                 113739.0          14    5  "
      ]
     },
     "execution_count": 56,
     "metadata": {},
     "output_type": "execute_result"
    }
   ],
   "source": [
    "dataCP['Mes']=dataCP['date'].dt.month\n",
    "dataCP.head()"
   ]
  },
  {
   "cell_type": "code",
   "execution_count": 63,
   "id": "176402d6",
   "metadata": {},
   "outputs": [],
   "source": [
    "startCP =(dataCP['people_fully_vaccinated']) #personas totalmente vacunadas\n",
    "endCP = (dataCP['people_vaccinated']) #personas con al menos una dósis de vacuna\n",
    "total= (dataCP['total_vaccinations']) #total dosis vacunas en cada país"
   ]
  },
  {
   "cell_type": "code",
   "execution_count": 64,
   "id": "2948ffe0",
   "metadata": {},
   "outputs": [
    {
     "data": {
      "text/plain": [
       "0         504502.0\n",
       "1         547901.0\n",
       "2         573277.0\n",
       "3         590454.0\n",
       "4         593313.0\n",
       "           ...    \n",
       "21911    5814790.0\n",
       "21912    5826876.0\n",
       "21913    5836363.0\n",
       "21914    5848934.0\n",
       "21915    5866629.0\n",
       "Name: total_vaccinations, Length: 21916, dtype: float64"
      ]
     },
     "execution_count": 64,
     "metadata": {},
     "output_type": "execute_result"
    }
   ],
   "source": [
    "total #total dosis vacunas en el mundo"
   ]
  },
  {
   "cell_type": "code",
   "execution_count": 65,
   "id": "d9c5e6d7",
   "metadata": {},
   "outputs": [
    {
     "data": {
      "text/plain": [
       "427282926438.0"
      ]
     },
     "execution_count": 65,
     "metadata": {},
     "output_type": "execute_result"
    }
   ],
   "source": [
    "total.sum()"
   ]
  },
  {
   "cell_type": "code",
   "execution_count": 66,
   "id": "2488dddb",
   "metadata": {},
   "outputs": [
    {
     "data": {
      "text/plain": [
       "<AxesSubplot:>"
      ]
     },
     "execution_count": 66,
     "metadata": {},
     "output_type": "execute_result"
    },
    {
     "data": {
      "image/png": "[encoded data removed]",
      "text/plain": [
       "<Figure size 432x288 with 1 Axes>"
      ]
     },
     "metadata": {
      "needs_background": "light"
     },
     "output_type": "display_data"
    }
   ],
   "source": [
    "startCP.plot()"
   ]
  },
  {
   "cell_type": "code",
   "execution_count": 78,
   "id": "67abc31f",
   "metadata": {},
   "outputs": [
    {
     "data": {
      "image/png": "[encoded data removed]",
      "text/plain": [
       "<Figure size 432x288 with 1 Axes>"
      ]
     },
     "metadata": {
      "needs_background": "light"
     },
     "output_type": "display_data"
    }
   ],
   "source": [
    "# Importar el módulo pyplot con el alias plt\n",
    "import matplotlib.pyplot as plt\n",
    "# Crear la figura y los ejes\n",
    "fig, ax = plt.subplots()\n",
    "# Dibujar puntos\n",
    "ax.scatter(x = dataCP['Mes'], y = dataCP['people_fully_vaccinated'])\n",
    "# Guardar el gráfico en formato png\n",
    "#plt.savefig('diagrama-dispersion.png')\n",
    "# Mostrar el gráfico\n",
    "plt.grid()\n",
    "plt.show()"
   ]
  },
  {
   "cell_type": "code",
   "execution_count": 85,
   "id": "969cfe49",
   "metadata": {},
   "outputs": [
    {
     "data": {
      "text/plain": [
       "Text(0.5, 1.0, 'Distribucion personas vacunadas')"
      ]
     },
     "execution_count": 85,
     "metadata": {},
     "output_type": "execute_result"
    },
    {
     "data": {
      "image/png": "[encoded data removed]",
      "text/plain": [
       "<Figure size 432x288 with 1 Axes>"
      ]
     },
     "metadata": {
      "needs_background": "light"
     },
     "output_type": "display_data"
    }
   ],
   "source": [
    "plt.hist(dataCP['people_fully_vaccinated'])\n",
    "plt.xlabel('Fechas')\n",
    "plt.ylabel('Vacunados')\n",
    "plt.grid()\n",
    "plt.title('Distribucion personas vacunadas')"
   ]
  },
  {
   "cell_type": "code",
   "execution_count": 60,
   "id": "9ad44ea7",
   "metadata": {},
   "outputs": [
    {
     "name": "stdout",
     "output_type": "stream",
     "text": [
      "Personas parcialmente vacunadas: 113336614440.0\n"
     ]
    }
   ],
   "source": [
    "num_datos_CP=(endCP-startCP).sum() #diferencial\n",
    "print('Personas parcialmente vacunadas:',num_datos_CP)"
   ]
  },
  {
   "cell_type": "code",
   "execution_count": 61,
   "id": "0548245d",
   "metadata": {},
   "outputs": [
    {
     "data": {
      "text/plain": [
       "313946311998.0"
      ]
     },
     "execution_count": 61,
     "metadata": {},
     "output_type": "execute_result"
    }
   ],
   "source": [
    "pv=total-num_datos_CP #diferencia\n",
    "pv"
   ]
  },
  {
   "cell_type": "code",
   "execution_count": null,
   "id": "e283d378",
   "metadata": {},
   "outputs": [],
   "source": []
  },
  {
   "cell_type": "code",
   "execution_count": 49,
   "id": "3b753f99",
   "metadata": {},
   "outputs": [
    {
     "name": "stdout",
     "output_type": "stream",
     "text": [
      "Muertes 4971845.030753788\n"
     ]
    }
   ],
   "source": [
    "total_de_datosCP=(dataCP['New_deaths']).sum()\n",
    "muertes=startCP-total_de_datosCP\n",
    "\n",
    "print('Muertes',muertes.mean())"
   ]
  },
  {
   "cell_type": "code",
   "execution_count": 86,
   "id": "ffb6c302",
   "metadata": {},
   "outputs": [
    {
     "data": {
      "text/plain": [
       "Text(0.5, 1.0, 'Distribucion muertes vs vacunadas')"
      ]
     },
     "execution_count": 86,
     "metadata": {},
     "output_type": "execute_result"
    },
    {
     "data": {
      "image/png": "[encoded data removed]",
      "text/plain": [
       "<Figure size 432x288 with 1 Axes>"
      ]
     },
     "metadata": {
      "needs_background": "light"
     },
     "output_type": "display_data"
    }
   ],
   "source": [
    "plt.hist(dataCP['New_deaths'])\n",
    "plt.xlabel('Fechas')\n",
    "plt.ylabel('Muertes')\n",
    "plt.grid()\n",
    "plt.title('Distribucion muertes vs vacunadas')"
   ]
  },
  {
   "cell_type": "code",
   "execution_count": 94,
   "id": "6b5d40a8",
   "metadata": {},
   "outputs": [
    {
     "data": {
      "text/plain": [
       "0.8231385708070843"
      ]
     },
     "execution_count": 94,
     "metadata": {},
     "output_type": "execute_result"
    }
   ],
   "source": [
    "nm=(startCP/muertes).mean()\n",
    "nm"
   ]
  },
  {
   "cell_type": "code",
   "execution_count": 95,
   "id": "ff6a7831",
   "metadata": {},
   "outputs": [
    {
     "data": {
      "text/plain": [
       "0.1768614291929157"
      ]
     },
     "execution_count": 95,
     "metadata": {},
     "output_type": "execute_result"
    }
   ],
   "source": [
    "1-nm"
   ]
  },
  {
   "cell_type": "code",
   "execution_count": 97,
   "id": "98a254f3",
   "metadata": {},
   "outputs": [
    {
     "data": {
      "text/plain": [
       "Text(0.5, 1.0, 'Distribucion muertes vs vacunadas')"
      ]
     },
     "execution_count": 97,
     "metadata": {},
     "output_type": "execute_result"
    },
    {
     "data": {
      "image/png": "[encoded data removed]",
      "text/plain": [
       "<Figure size 432x288 with 1 Axes>"
      ]
     },
     "metadata": {
      "needs_background": "light"
     },
     "output_type": "display_data"
    }
   ],
   "source": [
    "plt.hist(nm)\n",
    "plt.xlabel('Fechas')\n",
    "plt.ylabel('Muertes')\n",
    "plt.grid()\n",
    "plt.title('Distribucion muertes vs vacunadas')"
   ]
  },
  {
   "cell_type": "code",
   "execution_count": null,
   "id": "e3488c48",
   "metadata": {},
   "outputs": [],
   "source": []
  }
 ],
 "metadata": {
  "kernelspec": {
   "display_name": "Python 3",
   "language": "python",
   "name": "python3"
  },
  "language_info": {
   "codemirror_mode": {
    "name": "ipython",
    "version": 3
   },
   "file_extension": ".py",
   "mimetype": "text/x-python",
   "name": "python",
   "nbconvert_exporter": "python",
   "pygments_lexer": "ipython3",
   "version": "3.8.8"
  }
 },
 "nbformat": 4,
 "nbformat_minor": 5
}
